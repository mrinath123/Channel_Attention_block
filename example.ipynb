{
 "cells": [
  {
   "cell_type": "code",
   "execution_count": 1,
   "id": "compressed-emission",
   "metadata": {},
   "outputs": [],
   "source": [
    "import torch\n",
    "import torch.nn as nn\n",
    "import torch.nn.functional as F\n",
    "import numpy as np"
   ]
  },
  {
   "cell_type": "code",
   "execution_count": 48,
   "id": "rough-buffalo",
   "metadata": {},
   "outputs": [],
   "source": [
    "from Attention_Block import Attn_block"
   ]
  },
  {
   "cell_type": "code",
   "execution_count": 49,
   "id": "marine-anatomy",
   "metadata": {},
   "outputs": [],
   "source": [
    "ipt = torch.randn(1,8,20,20)"
   ]
  },
  {
   "cell_type": "code",
   "execution_count": 50,
   "id": "unlikely-senator",
   "metadata": {},
   "outputs": [],
   "source": [
    "m = Attn_block(8)"
   ]
  },
  {
   "cell_type": "code",
   "execution_count": 51,
   "id": "structured-yorkshire",
   "metadata": {},
   "outputs": [],
   "source": [
    "o,w = m(ipt)"
   ]
  },
  {
   "cell_type": "code",
   "execution_count": 53,
   "id": "caroline-blackberry",
   "metadata": {},
   "outputs": [
    {
     "data": {
      "text/plain": [
       "torch.Size([1, 8, 20, 20])"
      ]
     },
     "execution_count": 53,
     "metadata": {},
     "output_type": "execute_result"
    }
   ],
   "source": [
    "o.shape"
   ]
  },
  {
   "cell_type": "code",
   "execution_count": 54,
   "id": "arranged-affiliation",
   "metadata": {},
   "outputs": [
    {
     "data": {
      "text/plain": [
       "tensor([[[[0.1511]],\n",
       "\n",
       "         [[0.1626]],\n",
       "\n",
       "         [[0.1134]],\n",
       "\n",
       "         [[0.0992]],\n",
       "\n",
       "         [[0.0961]],\n",
       "\n",
       "         [[0.1134]],\n",
       "\n",
       "         [[0.1152]],\n",
       "\n",
       "         [[0.1491]]]], grad_fn=<SoftmaxBackward>)"
      ]
     },
     "execution_count": 54,
     "metadata": {},
     "output_type": "execute_result"
    }
   ],
   "source": [
    "w"
   ]
  },
  {
   "cell_type": "code",
   "execution_count": null,
   "id": "presidential-plain",
   "metadata": {},
   "outputs": [],
   "source": []
  }
 ],
 "metadata": {
  "kernelspec": {
   "display_name": "Python 3",
   "language": "python",
   "name": "python3"
  },
  "language_info": {
   "codemirror_mode": {
    "name": "ipython",
    "version": 3
   },
   "file_extension": ".py",
   "mimetype": "text/x-python",
   "name": "python",
   "nbconvert_exporter": "python",
   "pygments_lexer": "ipython3",
   "version": "3.8.5"
  }
 },
 "nbformat": 4,
 "nbformat_minor": 5
}
